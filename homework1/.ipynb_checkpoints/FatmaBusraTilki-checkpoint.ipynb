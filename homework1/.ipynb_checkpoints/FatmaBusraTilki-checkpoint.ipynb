{
 "cells": [
  {
   "cell_type": "code",
   "execution_count": 1,
   "id": "a782fcc3",
   "metadata": {},
   "outputs": [],
   "source": [
    "import pandas as pd"
   ]
  },
  {
   "cell_type": "markdown",
   "id": "054e4fb8",
   "metadata": {},
   "source": [
    "## CSV Dosyasını Okuma ve Temel Analizi"
   ]
  },
  {
   "cell_type": "markdown",
   "id": "341288ff",
   "metadata": {},
   "source": [
    "####  • CSV dosyasını pandas ile okuyun ve içeriğini ekrana yazdırın. "
   ]
  },
  {
   "cell_type": "code",
   "execution_count": 2,
   "id": "2a0a7fe9",
   "metadata": {},
   "outputs": [],
   "source": [
    "df = pd.read_csv(\"data.csv\")"
   ]
  },
  {
   "cell_type": "markdown",
   "id": "92c011f2",
   "metadata": {},
   "source": [
    "#### • İlk 5 satırı ve son 5 satırı görüntüleyin."
   ]
  },
  {
   "cell_type": "code",
   "execution_count": 3,
   "id": "1bc81cb6",
   "metadata": {},
   "outputs": [
    {
     "data": {
      "text/html": [
       "<div>\n",
       "<style scoped>\n",
       "    .dataframe tbody tr th:only-of-type {\n",
       "        vertical-align: middle;\n",
       "    }\n",
       "\n",
       "    .dataframe tbody tr th {\n",
       "        vertical-align: top;\n",
       "    }\n",
       "\n",
       "    .dataframe thead th {\n",
       "        text-align: right;\n",
       "    }\n",
       "</style>\n",
       "<table border=\"1\" class=\"dataframe\">\n",
       "  <thead>\n",
       "    <tr style=\"text-align: right;\">\n",
       "      <th></th>\n",
       "      <th>TransactionID</th>\n",
       "      <th>Date</th>\n",
       "      <th>Product</th>\n",
       "      <th>Category</th>\n",
       "      <th>Price</th>\n",
       "      <th>Quantity</th>\n",
       "      <th>TotalPrice</th>\n",
       "      <th>Customer</th>\n",
       "      <th>Region</th>\n",
       "    </tr>\n",
       "  </thead>\n",
       "  <tbody>\n",
       "    <tr>\n",
       "      <th>0</th>\n",
       "      <td>1001</td>\n",
       "      <td>2024-02-10</td>\n",
       "      <td>Laptop</td>\n",
       "      <td>Electronics</td>\n",
       "      <td>1200</td>\n",
       "      <td>1</td>\n",
       "      <td>NaN</td>\n",
       "      <td>Alice</td>\n",
       "      <td>North</td>\n",
       "    </tr>\n",
       "    <tr>\n",
       "      <th>1</th>\n",
       "      <td>1002</td>\n",
       "      <td>2024-02-11</td>\n",
       "      <td>Smartphone</td>\n",
       "      <td>Electronics</td>\n",
       "      <td>800</td>\n",
       "      <td>2</td>\n",
       "      <td>NaN</td>\n",
       "      <td>Bob</td>\n",
       "      <td>South</td>\n",
       "    </tr>\n",
       "    <tr>\n",
       "      <th>2</th>\n",
       "      <td>1003</td>\n",
       "      <td>2024-02-12</td>\n",
       "      <td>Tablet</td>\n",
       "      <td>Electronics</td>\n",
       "      <td>500</td>\n",
       "      <td>1</td>\n",
       "      <td>NaN</td>\n",
       "      <td>Charlie</td>\n",
       "      <td>West</td>\n",
       "    </tr>\n",
       "    <tr>\n",
       "      <th>3</th>\n",
       "      <td>1004</td>\n",
       "      <td>2024-02-13</td>\n",
       "      <td>Headphones</td>\n",
       "      <td>Accessories</td>\n",
       "      <td>100</td>\n",
       "      <td>3</td>\n",
       "      <td>NaN</td>\n",
       "      <td>Dave</td>\n",
       "      <td>East</td>\n",
       "    </tr>\n",
       "    <tr>\n",
       "      <th>4</th>\n",
       "      <td>1005</td>\n",
       "      <td>NaN</td>\n",
       "      <td>Monitor</td>\n",
       "      <td>Electronics</td>\n",
       "      <td>300</td>\n",
       "      <td>2</td>\n",
       "      <td>NaN</td>\n",
       "      <td>Eve</td>\n",
       "      <td>North</td>\n",
       "    </tr>\n",
       "  </tbody>\n",
       "</table>\n",
       "</div>"
      ],
      "text/plain": [
       "   TransactionID        Date     Product     Category  Price  Quantity  \\\n",
       "0           1001  2024-02-10      Laptop  Electronics   1200         1   \n",
       "1           1002  2024-02-11  Smartphone  Electronics    800         2   \n",
       "2           1003  2024-02-12      Tablet  Electronics    500         1   \n",
       "3           1004  2024-02-13  Headphones  Accessories    100         3   \n",
       "4           1005         NaN     Monitor  Electronics    300         2   \n",
       "\n",
       "   TotalPrice Customer Region  \n",
       "0         NaN    Alice  North  \n",
       "1         NaN      Bob  South  \n",
       "2         NaN  Charlie   West  \n",
       "3         NaN     Dave   East  \n",
       "4         NaN      Eve  North  "
      ]
     },
     "execution_count": 3,
     "metadata": {},
     "output_type": "execute_result"
    }
   ],
   "source": [
    "df.head()"
   ]
  },
  {
   "cell_type": "code",
   "execution_count": 4,
   "id": "f863443c",
   "metadata": {},
   "outputs": [
    {
     "data": {
      "text/html": [
       "<div>\n",
       "<style scoped>\n",
       "    .dataframe tbody tr th:only-of-type {\n",
       "        vertical-align: middle;\n",
       "    }\n",
       "\n",
       "    .dataframe tbody tr th {\n",
       "        vertical-align: top;\n",
       "    }\n",
       "\n",
       "    .dataframe thead th {\n",
       "        text-align: right;\n",
       "    }\n",
       "</style>\n",
       "<table border=\"1\" class=\"dataframe\">\n",
       "  <thead>\n",
       "    <tr style=\"text-align: right;\">\n",
       "      <th></th>\n",
       "      <th>TransactionID</th>\n",
       "      <th>Date</th>\n",
       "      <th>Product</th>\n",
       "      <th>Category</th>\n",
       "      <th>Price</th>\n",
       "      <th>Quantity</th>\n",
       "      <th>TotalPrice</th>\n",
       "      <th>Customer</th>\n",
       "      <th>Region</th>\n",
       "    </tr>\n",
       "  </thead>\n",
       "  <tbody>\n",
       "    <tr>\n",
       "      <th>15</th>\n",
       "      <td>1016</td>\n",
       "      <td>NaN</td>\n",
       "      <td>Webcam</td>\n",
       "      <td>Accessories</td>\n",
       "      <td>140</td>\n",
       "      <td>2</td>\n",
       "      <td>NaN</td>\n",
       "      <td>Paul</td>\n",
       "      <td>East</td>\n",
       "    </tr>\n",
       "    <tr>\n",
       "      <th>16</th>\n",
       "      <td>1017</td>\n",
       "      <td>2024-02-26</td>\n",
       "      <td>Laptop</td>\n",
       "      <td>Electronics</td>\n",
       "      <td>1250</td>\n",
       "      <td>1</td>\n",
       "      <td>NaN</td>\n",
       "      <td>Quinn</td>\n",
       "      <td>North</td>\n",
       "    </tr>\n",
       "    <tr>\n",
       "      <th>17</th>\n",
       "      <td>1018</td>\n",
       "      <td>2024-02-27</td>\n",
       "      <td>Smartphone</td>\n",
       "      <td>Electronics</td>\n",
       "      <td>820</td>\n",
       "      <td>2</td>\n",
       "      <td>NaN</td>\n",
       "      <td>NaN</td>\n",
       "      <td>South</td>\n",
       "    </tr>\n",
       "    <tr>\n",
       "      <th>18</th>\n",
       "      <td>1019</td>\n",
       "      <td>NaN</td>\n",
       "      <td>Tablet</td>\n",
       "      <td>Electronics</td>\n",
       "      <td>510</td>\n",
       "      <td>1</td>\n",
       "      <td>NaN</td>\n",
       "      <td>Steve</td>\n",
       "      <td>West</td>\n",
       "    </tr>\n",
       "    <tr>\n",
       "      <th>19</th>\n",
       "      <td>1020</td>\n",
       "      <td>2024-02-29</td>\n",
       "      <td>Headphones</td>\n",
       "      <td>Accessories</td>\n",
       "      <td>110</td>\n",
       "      <td>3</td>\n",
       "      <td>NaN</td>\n",
       "      <td>Tom</td>\n",
       "      <td>East</td>\n",
       "    </tr>\n",
       "  </tbody>\n",
       "</table>\n",
       "</div>"
      ],
      "text/plain": [
       "    TransactionID        Date     Product     Category  Price  Quantity  \\\n",
       "15           1016         NaN      Webcam  Accessories    140         2   \n",
       "16           1017  2024-02-26      Laptop  Electronics   1250         1   \n",
       "17           1018  2024-02-27  Smartphone  Electronics    820         2   \n",
       "18           1019         NaN      Tablet  Electronics    510         1   \n",
       "19           1020  2024-02-29  Headphones  Accessories    110         3   \n",
       "\n",
       "    TotalPrice Customer Region  \n",
       "15         NaN     Paul   East  \n",
       "16         NaN    Quinn  North  \n",
       "17         NaN      NaN  South  \n",
       "18         NaN    Steve   West  \n",
       "19         NaN      Tom   East  "
      ]
     },
     "execution_count": 4,
     "metadata": {},
     "output_type": "execute_result"
    }
   ],
   "source": [
    "df.tail()"
   ]
  },
  {
   "cell_type": "markdown",
   "id": "faea0a77",
   "metadata": {},
   "source": [
    "#### • Veri çerçevesinin boyutunu (satır ve sütun sayısını) öğrenin."
   ]
  },
  {
   "cell_type": "code",
   "execution_count": 5,
   "id": "51898b8b",
   "metadata": {},
   "outputs": [
    {
     "data": {
      "text/plain": [
       "(20, 9)"
      ]
     },
     "execution_count": 5,
     "metadata": {},
     "output_type": "execute_result"
    }
   ],
   "source": [
    "df.shape"
   ]
  },
  {
   "cell_type": "markdown",
   "id": "05f5f3f1",
   "metadata": {},
   "source": [
    "#### • Sütunlardaki eksik verileri kontrol edin. "
   ]
  },
  {
   "cell_type": "code",
   "execution_count": 6,
   "id": "63684c74",
   "metadata": {},
   "outputs": [
    {
     "data": {
      "text/plain": [
       "TransactionID     0\n",
       "Date              4\n",
       "Product           0\n",
       "Category          0\n",
       "Price             0\n",
       "Quantity          0\n",
       "TotalPrice       20\n",
       "Customer          3\n",
       "Region            0\n",
       "dtype: int64"
      ]
     },
     "execution_count": 6,
     "metadata": {},
     "output_type": "execute_result"
    }
   ],
   "source": [
    "df.isnull().sum()"
   ]
  },
  {
   "cell_type": "markdown",
   "id": "15de9475",
   "metadata": {},
   "source": [
    "#### • Veri türlerini (dtype) inceleyin."
   ]
  },
  {
   "cell_type": "code",
   "execution_count": 7,
   "id": "e8851bb9",
   "metadata": {},
   "outputs": [
    {
     "data": {
      "text/plain": [
       "TransactionID      int64\n",
       "Date              object\n",
       "Product           object\n",
       "Category          object\n",
       "Price              int64\n",
       "Quantity           int64\n",
       "TotalPrice       float64\n",
       "Customer          object\n",
       "Region            object\n",
       "dtype: object"
      ]
     },
     "execution_count": 7,
     "metadata": {},
     "output_type": "execute_result"
    }
   ],
   "source": [
    "df.dtypes"
   ]
  },
  {
   "cell_type": "markdown",
   "id": "8587a9f4",
   "metadata": {},
   "source": [
    "## Eksik Verileri Düzeltme"
   ]
  },
  {
   "cell_type": "markdown",
   "id": "42bfeac5",
   "metadata": {},
   "source": [
    "#### • TotalPrice sütunu eksik değerler içeriyor. Bu sütunu Price * Quantity olarak hesaplayıp güncelleyin."
   ]
  },
  {
   "cell_type": "code",
   "execution_count": 8,
   "id": "22d0776c",
   "metadata": {},
   "outputs": [],
   "source": [
    "df[\"TotalPrice\"] = df[\"TotalPrice\"].fillna(df[\"Price\"] * df[\"Quantity\"])"
   ]
  },
  {
   "cell_type": "markdown",
   "id": "bcf4c519",
   "metadata": {},
   "source": [
    "#### • Date sütunundaki eksik verileri önce üst sonra alt satırları baz alarak dolduracak method ile doldurunuz."
   ]
  },
  {
   "cell_type": "code",
   "execution_count": 9,
   "id": "6dab2dd8",
   "metadata": {},
   "outputs": [],
   "source": [
    "df[\"Date\"] = df[\"Date\"].fillna(method='ffill') # Forward fill: üst satıra göre doldurma"
   ]
  },
  {
   "cell_type": "code",
   "execution_count": 10,
   "id": "f443bb31",
   "metadata": {},
   "outputs": [],
   "source": [
    "df[\"Date\"] = df[\"Date\"].fillna(method='bfill') # Backward fill: alt satıra göre doldurma"
   ]
  },
  {
   "cell_type": "code",
   "execution_count": 11,
   "id": "3b803097",
   "metadata": {},
   "outputs": [
    {
     "data": {
      "text/html": [
       "<div>\n",
       "<style scoped>\n",
       "    .dataframe tbody tr th:only-of-type {\n",
       "        vertical-align: middle;\n",
       "    }\n",
       "\n",
       "    .dataframe tbody tr th {\n",
       "        vertical-align: top;\n",
       "    }\n",
       "\n",
       "    .dataframe thead th {\n",
       "        text-align: right;\n",
       "    }\n",
       "</style>\n",
       "<table border=\"1\" class=\"dataframe\">\n",
       "  <thead>\n",
       "    <tr style=\"text-align: right;\">\n",
       "      <th></th>\n",
       "      <th>TransactionID</th>\n",
       "      <th>Date</th>\n",
       "      <th>Product</th>\n",
       "      <th>Category</th>\n",
       "      <th>Price</th>\n",
       "      <th>Quantity</th>\n",
       "      <th>TotalPrice</th>\n",
       "      <th>Customer</th>\n",
       "      <th>Region</th>\n",
       "    </tr>\n",
       "  </thead>\n",
       "  <tbody>\n",
       "    <tr>\n",
       "      <th>0</th>\n",
       "      <td>1001</td>\n",
       "      <td>2024-02-10</td>\n",
       "      <td>Laptop</td>\n",
       "      <td>Electronics</td>\n",
       "      <td>1200</td>\n",
       "      <td>1</td>\n",
       "      <td>1200.0</td>\n",
       "      <td>Alice</td>\n",
       "      <td>North</td>\n",
       "    </tr>\n",
       "    <tr>\n",
       "      <th>1</th>\n",
       "      <td>1002</td>\n",
       "      <td>2024-02-11</td>\n",
       "      <td>Smartphone</td>\n",
       "      <td>Electronics</td>\n",
       "      <td>800</td>\n",
       "      <td>2</td>\n",
       "      <td>1600.0</td>\n",
       "      <td>Bob</td>\n",
       "      <td>South</td>\n",
       "    </tr>\n",
       "    <tr>\n",
       "      <th>2</th>\n",
       "      <td>1003</td>\n",
       "      <td>2024-02-12</td>\n",
       "      <td>Tablet</td>\n",
       "      <td>Electronics</td>\n",
       "      <td>500</td>\n",
       "      <td>1</td>\n",
       "      <td>500.0</td>\n",
       "      <td>Charlie</td>\n",
       "      <td>West</td>\n",
       "    </tr>\n",
       "    <tr>\n",
       "      <th>3</th>\n",
       "      <td>1004</td>\n",
       "      <td>2024-02-13</td>\n",
       "      <td>Headphones</td>\n",
       "      <td>Accessories</td>\n",
       "      <td>100</td>\n",
       "      <td>3</td>\n",
       "      <td>300.0</td>\n",
       "      <td>Dave</td>\n",
       "      <td>East</td>\n",
       "    </tr>\n",
       "    <tr>\n",
       "      <th>4</th>\n",
       "      <td>1005</td>\n",
       "      <td>2024-02-13</td>\n",
       "      <td>Monitor</td>\n",
       "      <td>Electronics</td>\n",
       "      <td>300</td>\n",
       "      <td>2</td>\n",
       "      <td>600.0</td>\n",
       "      <td>Eve</td>\n",
       "      <td>North</td>\n",
       "    </tr>\n",
       "    <tr>\n",
       "      <th>5</th>\n",
       "      <td>1006</td>\n",
       "      <td>2024-02-15</td>\n",
       "      <td>Mouse</td>\n",
       "      <td>Accessories</td>\n",
       "      <td>50</td>\n",
       "      <td>5</td>\n",
       "      <td>250.0</td>\n",
       "      <td>NaN</td>\n",
       "      <td>South</td>\n",
       "    </tr>\n",
       "    <tr>\n",
       "      <th>6</th>\n",
       "      <td>1007</td>\n",
       "      <td>2024-02-16</td>\n",
       "      <td>Keyboard</td>\n",
       "      <td>Accessories</td>\n",
       "      <td>80</td>\n",
       "      <td>4</td>\n",
       "      <td>320.0</td>\n",
       "      <td>Grace</td>\n",
       "      <td>West</td>\n",
       "    </tr>\n",
       "    <tr>\n",
       "      <th>7</th>\n",
       "      <td>1008</td>\n",
       "      <td>2024-02-17</td>\n",
       "      <td>Webcam</td>\n",
       "      <td>Accessories</td>\n",
       "      <td>150</td>\n",
       "      <td>2</td>\n",
       "      <td>300.0</td>\n",
       "      <td>Hank</td>\n",
       "      <td>East</td>\n",
       "    </tr>\n",
       "    <tr>\n",
       "      <th>8</th>\n",
       "      <td>1009</td>\n",
       "      <td>2024-02-18</td>\n",
       "      <td>Laptop</td>\n",
       "      <td>Electronics</td>\n",
       "      <td>1100</td>\n",
       "      <td>1</td>\n",
       "      <td>1100.0</td>\n",
       "      <td>Ivy</td>\n",
       "      <td>North</td>\n",
       "    </tr>\n",
       "    <tr>\n",
       "      <th>9</th>\n",
       "      <td>1010</td>\n",
       "      <td>2024-02-19</td>\n",
       "      <td>Smartphone</td>\n",
       "      <td>Electronics</td>\n",
       "      <td>750</td>\n",
       "      <td>2</td>\n",
       "      <td>1500.0</td>\n",
       "      <td>John</td>\n",
       "      <td>South</td>\n",
       "    </tr>\n",
       "    <tr>\n",
       "      <th>10</th>\n",
       "      <td>1011</td>\n",
       "      <td>2024-02-19</td>\n",
       "      <td>Tablet</td>\n",
       "      <td>Electronics</td>\n",
       "      <td>600</td>\n",
       "      <td>1</td>\n",
       "      <td>600.0</td>\n",
       "      <td>Kate</td>\n",
       "      <td>West</td>\n",
       "    </tr>\n",
       "    <tr>\n",
       "      <th>11</th>\n",
       "      <td>1012</td>\n",
       "      <td>2024-02-21</td>\n",
       "      <td>Headphones</td>\n",
       "      <td>Accessories</td>\n",
       "      <td>120</td>\n",
       "      <td>3</td>\n",
       "      <td>360.0</td>\n",
       "      <td>Leo</td>\n",
       "      <td>East</td>\n",
       "    </tr>\n",
       "    <tr>\n",
       "      <th>12</th>\n",
       "      <td>1013</td>\n",
       "      <td>2024-02-22</td>\n",
       "      <td>Monitor</td>\n",
       "      <td>Electronics</td>\n",
       "      <td>280</td>\n",
       "      <td>2</td>\n",
       "      <td>560.0</td>\n",
       "      <td>Mia</td>\n",
       "      <td>North</td>\n",
       "    </tr>\n",
       "    <tr>\n",
       "      <th>13</th>\n",
       "      <td>1014</td>\n",
       "      <td>2024-02-23</td>\n",
       "      <td>Mouse</td>\n",
       "      <td>Accessories</td>\n",
       "      <td>55</td>\n",
       "      <td>5</td>\n",
       "      <td>275.0</td>\n",
       "      <td>Nina</td>\n",
       "      <td>South</td>\n",
       "    </tr>\n",
       "    <tr>\n",
       "      <th>14</th>\n",
       "      <td>1015</td>\n",
       "      <td>2024-02-24</td>\n",
       "      <td>Keyboard</td>\n",
       "      <td>Accessories</td>\n",
       "      <td>85</td>\n",
       "      <td>4</td>\n",
       "      <td>340.0</td>\n",
       "      <td>NaN</td>\n",
       "      <td>West</td>\n",
       "    </tr>\n",
       "    <tr>\n",
       "      <th>15</th>\n",
       "      <td>1016</td>\n",
       "      <td>2024-02-24</td>\n",
       "      <td>Webcam</td>\n",
       "      <td>Accessories</td>\n",
       "      <td>140</td>\n",
       "      <td>2</td>\n",
       "      <td>280.0</td>\n",
       "      <td>Paul</td>\n",
       "      <td>East</td>\n",
       "    </tr>\n",
       "    <tr>\n",
       "      <th>16</th>\n",
       "      <td>1017</td>\n",
       "      <td>2024-02-26</td>\n",
       "      <td>Laptop</td>\n",
       "      <td>Electronics</td>\n",
       "      <td>1250</td>\n",
       "      <td>1</td>\n",
       "      <td>1250.0</td>\n",
       "      <td>Quinn</td>\n",
       "      <td>North</td>\n",
       "    </tr>\n",
       "    <tr>\n",
       "      <th>17</th>\n",
       "      <td>1018</td>\n",
       "      <td>2024-02-27</td>\n",
       "      <td>Smartphone</td>\n",
       "      <td>Electronics</td>\n",
       "      <td>820</td>\n",
       "      <td>2</td>\n",
       "      <td>1640.0</td>\n",
       "      <td>NaN</td>\n",
       "      <td>South</td>\n",
       "    </tr>\n",
       "    <tr>\n",
       "      <th>18</th>\n",
       "      <td>1019</td>\n",
       "      <td>2024-02-27</td>\n",
       "      <td>Tablet</td>\n",
       "      <td>Electronics</td>\n",
       "      <td>510</td>\n",
       "      <td>1</td>\n",
       "      <td>510.0</td>\n",
       "      <td>Steve</td>\n",
       "      <td>West</td>\n",
       "    </tr>\n",
       "    <tr>\n",
       "      <th>19</th>\n",
       "      <td>1020</td>\n",
       "      <td>2024-02-29</td>\n",
       "      <td>Headphones</td>\n",
       "      <td>Accessories</td>\n",
       "      <td>110</td>\n",
       "      <td>3</td>\n",
       "      <td>330.0</td>\n",
       "      <td>Tom</td>\n",
       "      <td>East</td>\n",
       "    </tr>\n",
       "  </tbody>\n",
       "</table>\n",
       "</div>"
      ],
      "text/plain": [
       "    TransactionID        Date     Product     Category  Price  Quantity  \\\n",
       "0            1001  2024-02-10      Laptop  Electronics   1200         1   \n",
       "1            1002  2024-02-11  Smartphone  Electronics    800         2   \n",
       "2            1003  2024-02-12      Tablet  Electronics    500         1   \n",
       "3            1004  2024-02-13  Headphones  Accessories    100         3   \n",
       "4            1005  2024-02-13     Monitor  Electronics    300         2   \n",
       "5            1006  2024-02-15       Mouse  Accessories     50         5   \n",
       "6            1007  2024-02-16    Keyboard  Accessories     80         4   \n",
       "7            1008  2024-02-17      Webcam  Accessories    150         2   \n",
       "8            1009  2024-02-18      Laptop  Electronics   1100         1   \n",
       "9            1010  2024-02-19  Smartphone  Electronics    750         2   \n",
       "10           1011  2024-02-19      Tablet  Electronics    600         1   \n",
       "11           1012  2024-02-21  Headphones  Accessories    120         3   \n",
       "12           1013  2024-02-22     Monitor  Electronics    280         2   \n",
       "13           1014  2024-02-23       Mouse  Accessories     55         5   \n",
       "14           1015  2024-02-24    Keyboard  Accessories     85         4   \n",
       "15           1016  2024-02-24      Webcam  Accessories    140         2   \n",
       "16           1017  2024-02-26      Laptop  Electronics   1250         1   \n",
       "17           1018  2024-02-27  Smartphone  Electronics    820         2   \n",
       "18           1019  2024-02-27      Tablet  Electronics    510         1   \n",
       "19           1020  2024-02-29  Headphones  Accessories    110         3   \n",
       "\n",
       "    TotalPrice Customer Region  \n",
       "0       1200.0    Alice  North  \n",
       "1       1600.0      Bob  South  \n",
       "2        500.0  Charlie   West  \n",
       "3        300.0     Dave   East  \n",
       "4        600.0      Eve  North  \n",
       "5        250.0      NaN  South  \n",
       "6        320.0    Grace   West  \n",
       "7        300.0     Hank   East  \n",
       "8       1100.0      Ivy  North  \n",
       "9       1500.0     John  South  \n",
       "10       600.0     Kate   West  \n",
       "11       360.0      Leo   East  \n",
       "12       560.0      Mia  North  \n",
       "13       275.0     Nina  South  \n",
       "14       340.0      NaN   West  \n",
       "15       280.0     Paul   East  \n",
       "16      1250.0    Quinn  North  \n",
       "17      1640.0      NaN  South  \n",
       "18       510.0    Steve   West  \n",
       "19       330.0      Tom   East  "
      ]
     },
     "execution_count": 11,
     "metadata": {},
     "output_type": "execute_result"
    }
   ],
   "source": [
    "df"
   ]
  },
  {
   "cell_type": "markdown",
   "id": "8c945ec4",
   "metadata": {},
   "source": [
    "#### • Eksik veri olan diğer sütunlarda veri doldurma stratejinizi kendiniz belirleyerek eksikleri doldurunuz."
   ]
  },
  {
   "cell_type": "code",
   "execution_count": 12,
   "id": "2d369d72",
   "metadata": {},
   "outputs": [
    {
     "data": {
      "text/plain": [
       "TransactionID    0\n",
       "Date             0\n",
       "Product          0\n",
       "Category         0\n",
       "Price            0\n",
       "Quantity         0\n",
       "TotalPrice       0\n",
       "Customer         3\n",
       "Region           0\n",
       "dtype: int64"
      ]
     },
     "execution_count": 12,
     "metadata": {},
     "output_type": "execute_result"
    }
   ],
   "source": [
    "df.isnull().sum()"
   ]
  },
  {
   "cell_type": "code",
   "execution_count": 13,
   "id": "ec4bc07d",
   "metadata": {},
   "outputs": [
    {
     "data": {
      "text/plain": [
       "Alice      1\n",
       "Kate       1\n",
       "Steve      1\n",
       "Quinn      1\n",
       "Paul       1\n",
       "Nina       1\n",
       "Mia        1\n",
       "Leo        1\n",
       "John       1\n",
       "Bob        1\n",
       "Ivy        1\n",
       "Hank       1\n",
       "Grace      1\n",
       "Eve        1\n",
       "Dave       1\n",
       "Charlie    1\n",
       "Tom        1\n",
       "Name: Customer, dtype: int64"
      ]
     },
     "execution_count": 13,
     "metadata": {},
     "output_type": "execute_result"
    }
   ],
   "source": [
    "df['Customer'].value_counts()"
   ]
  },
  {
   "cell_type": "code",
   "execution_count": 14,
   "id": "00b67c5f",
   "metadata": {},
   "outputs": [
    {
     "data": {
      "text/plain": [
       "North    5\n",
       "South    5\n",
       "West     5\n",
       "East     5\n",
       "Name: Region, dtype: int64"
      ]
     },
     "execution_count": 14,
     "metadata": {},
     "output_type": "execute_result"
    }
   ],
   "source": [
    "df[\"Region\"].value_counts()"
   ]
  },
  {
   "cell_type": "code",
   "execution_count": 15,
   "id": "ed2b00a9",
   "metadata": {},
   "outputs": [],
   "source": [
    "import random"
   ]
  },
  {
   "cell_type": "code",
   "execution_count": 16,
   "id": "f4edfee7",
   "metadata": {},
   "outputs": [
    {
     "data": {
      "text/html": [
       "<div>\n",
       "<style scoped>\n",
       "    .dataframe tbody tr th:only-of-type {\n",
       "        vertical-align: middle;\n",
       "    }\n",
       "\n",
       "    .dataframe tbody tr th {\n",
       "        vertical-align: top;\n",
       "    }\n",
       "\n",
       "    .dataframe thead th {\n",
       "        text-align: right;\n",
       "    }\n",
       "</style>\n",
       "<table border=\"1\" class=\"dataframe\">\n",
       "  <thead>\n",
       "    <tr style=\"text-align: right;\">\n",
       "      <th></th>\n",
       "      <th>TransactionID</th>\n",
       "      <th>Date</th>\n",
       "      <th>Product</th>\n",
       "      <th>Category</th>\n",
       "      <th>Price</th>\n",
       "      <th>Quantity</th>\n",
       "      <th>TotalPrice</th>\n",
       "      <th>Customer</th>\n",
       "      <th>Region</th>\n",
       "    </tr>\n",
       "  </thead>\n",
       "  <tbody>\n",
       "    <tr>\n",
       "      <th>0</th>\n",
       "      <td>1001</td>\n",
       "      <td>2024-02-10</td>\n",
       "      <td>Laptop</td>\n",
       "      <td>Electronics</td>\n",
       "      <td>1200</td>\n",
       "      <td>1</td>\n",
       "      <td>1200.0</td>\n",
       "      <td>Alice</td>\n",
       "      <td>North</td>\n",
       "    </tr>\n",
       "    <tr>\n",
       "      <th>1</th>\n",
       "      <td>1002</td>\n",
       "      <td>2024-02-11</td>\n",
       "      <td>Smartphone</td>\n",
       "      <td>Electronics</td>\n",
       "      <td>800</td>\n",
       "      <td>2</td>\n",
       "      <td>1600.0</td>\n",
       "      <td>Bob</td>\n",
       "      <td>South</td>\n",
       "    </tr>\n",
       "    <tr>\n",
       "      <th>2</th>\n",
       "      <td>1003</td>\n",
       "      <td>2024-02-12</td>\n",
       "      <td>Tablet</td>\n",
       "      <td>Electronics</td>\n",
       "      <td>500</td>\n",
       "      <td>1</td>\n",
       "      <td>500.0</td>\n",
       "      <td>Charlie</td>\n",
       "      <td>West</td>\n",
       "    </tr>\n",
       "    <tr>\n",
       "      <th>3</th>\n",
       "      <td>1004</td>\n",
       "      <td>2024-02-13</td>\n",
       "      <td>Headphones</td>\n",
       "      <td>Accessories</td>\n",
       "      <td>100</td>\n",
       "      <td>3</td>\n",
       "      <td>300.0</td>\n",
       "      <td>Dave</td>\n",
       "      <td>East</td>\n",
       "    </tr>\n",
       "    <tr>\n",
       "      <th>4</th>\n",
       "      <td>1005</td>\n",
       "      <td>2024-02-13</td>\n",
       "      <td>Monitor</td>\n",
       "      <td>Electronics</td>\n",
       "      <td>300</td>\n",
       "      <td>2</td>\n",
       "      <td>600.0</td>\n",
       "      <td>Eve</td>\n",
       "      <td>North</td>\n",
       "    </tr>\n",
       "    <tr>\n",
       "      <th>5</th>\n",
       "      <td>1006</td>\n",
       "      <td>2024-02-15</td>\n",
       "      <td>Mouse</td>\n",
       "      <td>Accessories</td>\n",
       "      <td>50</td>\n",
       "      <td>5</td>\n",
       "      <td>250.0</td>\n",
       "      <td>Leo</td>\n",
       "      <td>South</td>\n",
       "    </tr>\n",
       "    <tr>\n",
       "      <th>6</th>\n",
       "      <td>1007</td>\n",
       "      <td>2024-02-16</td>\n",
       "      <td>Keyboard</td>\n",
       "      <td>Accessories</td>\n",
       "      <td>80</td>\n",
       "      <td>4</td>\n",
       "      <td>320.0</td>\n",
       "      <td>Grace</td>\n",
       "      <td>West</td>\n",
       "    </tr>\n",
       "    <tr>\n",
       "      <th>7</th>\n",
       "      <td>1008</td>\n",
       "      <td>2024-02-17</td>\n",
       "      <td>Webcam</td>\n",
       "      <td>Accessories</td>\n",
       "      <td>150</td>\n",
       "      <td>2</td>\n",
       "      <td>300.0</td>\n",
       "      <td>Hank</td>\n",
       "      <td>East</td>\n",
       "    </tr>\n",
       "    <tr>\n",
       "      <th>8</th>\n",
       "      <td>1009</td>\n",
       "      <td>2024-02-18</td>\n",
       "      <td>Laptop</td>\n",
       "      <td>Electronics</td>\n",
       "      <td>1100</td>\n",
       "      <td>1</td>\n",
       "      <td>1100.0</td>\n",
       "      <td>Ivy</td>\n",
       "      <td>North</td>\n",
       "    </tr>\n",
       "    <tr>\n",
       "      <th>9</th>\n",
       "      <td>1010</td>\n",
       "      <td>2024-02-19</td>\n",
       "      <td>Smartphone</td>\n",
       "      <td>Electronics</td>\n",
       "      <td>750</td>\n",
       "      <td>2</td>\n",
       "      <td>1500.0</td>\n",
       "      <td>John</td>\n",
       "      <td>South</td>\n",
       "    </tr>\n",
       "    <tr>\n",
       "      <th>10</th>\n",
       "      <td>1011</td>\n",
       "      <td>2024-02-19</td>\n",
       "      <td>Tablet</td>\n",
       "      <td>Electronics</td>\n",
       "      <td>600</td>\n",
       "      <td>1</td>\n",
       "      <td>600.0</td>\n",
       "      <td>Kate</td>\n",
       "      <td>West</td>\n",
       "    </tr>\n",
       "    <tr>\n",
       "      <th>11</th>\n",
       "      <td>1012</td>\n",
       "      <td>2024-02-21</td>\n",
       "      <td>Headphones</td>\n",
       "      <td>Accessories</td>\n",
       "      <td>120</td>\n",
       "      <td>3</td>\n",
       "      <td>360.0</td>\n",
       "      <td>Leo</td>\n",
       "      <td>East</td>\n",
       "    </tr>\n",
       "    <tr>\n",
       "      <th>12</th>\n",
       "      <td>1013</td>\n",
       "      <td>2024-02-22</td>\n",
       "      <td>Monitor</td>\n",
       "      <td>Electronics</td>\n",
       "      <td>280</td>\n",
       "      <td>2</td>\n",
       "      <td>560.0</td>\n",
       "      <td>Mia</td>\n",
       "      <td>North</td>\n",
       "    </tr>\n",
       "    <tr>\n",
       "      <th>13</th>\n",
       "      <td>1014</td>\n",
       "      <td>2024-02-23</td>\n",
       "      <td>Mouse</td>\n",
       "      <td>Accessories</td>\n",
       "      <td>55</td>\n",
       "      <td>5</td>\n",
       "      <td>275.0</td>\n",
       "      <td>Nina</td>\n",
       "      <td>South</td>\n",
       "    </tr>\n",
       "    <tr>\n",
       "      <th>14</th>\n",
       "      <td>1015</td>\n",
       "      <td>2024-02-24</td>\n",
       "      <td>Keyboard</td>\n",
       "      <td>Accessories</td>\n",
       "      <td>85</td>\n",
       "      <td>4</td>\n",
       "      <td>340.0</td>\n",
       "      <td>Ivy</td>\n",
       "      <td>West</td>\n",
       "    </tr>\n",
       "    <tr>\n",
       "      <th>15</th>\n",
       "      <td>1016</td>\n",
       "      <td>2024-02-24</td>\n",
       "      <td>Webcam</td>\n",
       "      <td>Accessories</td>\n",
       "      <td>140</td>\n",
       "      <td>2</td>\n",
       "      <td>280.0</td>\n",
       "      <td>Paul</td>\n",
       "      <td>East</td>\n",
       "    </tr>\n",
       "    <tr>\n",
       "      <th>16</th>\n",
       "      <td>1017</td>\n",
       "      <td>2024-02-26</td>\n",
       "      <td>Laptop</td>\n",
       "      <td>Electronics</td>\n",
       "      <td>1250</td>\n",
       "      <td>1</td>\n",
       "      <td>1250.0</td>\n",
       "      <td>Quinn</td>\n",
       "      <td>North</td>\n",
       "    </tr>\n",
       "    <tr>\n",
       "      <th>17</th>\n",
       "      <td>1018</td>\n",
       "      <td>2024-02-27</td>\n",
       "      <td>Smartphone</td>\n",
       "      <td>Electronics</td>\n",
       "      <td>820</td>\n",
       "      <td>2</td>\n",
       "      <td>1640.0</td>\n",
       "      <td>Bob</td>\n",
       "      <td>South</td>\n",
       "    </tr>\n",
       "    <tr>\n",
       "      <th>18</th>\n",
       "      <td>1019</td>\n",
       "      <td>2024-02-27</td>\n",
       "      <td>Tablet</td>\n",
       "      <td>Electronics</td>\n",
       "      <td>510</td>\n",
       "      <td>1</td>\n",
       "      <td>510.0</td>\n",
       "      <td>Steve</td>\n",
       "      <td>West</td>\n",
       "    </tr>\n",
       "    <tr>\n",
       "      <th>19</th>\n",
       "      <td>1020</td>\n",
       "      <td>2024-02-29</td>\n",
       "      <td>Headphones</td>\n",
       "      <td>Accessories</td>\n",
       "      <td>110</td>\n",
       "      <td>3</td>\n",
       "      <td>330.0</td>\n",
       "      <td>Tom</td>\n",
       "      <td>East</td>\n",
       "    </tr>\n",
       "  </tbody>\n",
       "</table>\n",
       "</div>"
      ],
      "text/plain": [
       "    TransactionID        Date     Product     Category  Price  Quantity  \\\n",
       "0            1001  2024-02-10      Laptop  Electronics   1200         1   \n",
       "1            1002  2024-02-11  Smartphone  Electronics    800         2   \n",
       "2            1003  2024-02-12      Tablet  Electronics    500         1   \n",
       "3            1004  2024-02-13  Headphones  Accessories    100         3   \n",
       "4            1005  2024-02-13     Monitor  Electronics    300         2   \n",
       "5            1006  2024-02-15       Mouse  Accessories     50         5   \n",
       "6            1007  2024-02-16    Keyboard  Accessories     80         4   \n",
       "7            1008  2024-02-17      Webcam  Accessories    150         2   \n",
       "8            1009  2024-02-18      Laptop  Electronics   1100         1   \n",
       "9            1010  2024-02-19  Smartphone  Electronics    750         2   \n",
       "10           1011  2024-02-19      Tablet  Electronics    600         1   \n",
       "11           1012  2024-02-21  Headphones  Accessories    120         3   \n",
       "12           1013  2024-02-22     Monitor  Electronics    280         2   \n",
       "13           1014  2024-02-23       Mouse  Accessories     55         5   \n",
       "14           1015  2024-02-24    Keyboard  Accessories     85         4   \n",
       "15           1016  2024-02-24      Webcam  Accessories    140         2   \n",
       "16           1017  2024-02-26      Laptop  Electronics   1250         1   \n",
       "17           1018  2024-02-27  Smartphone  Electronics    820         2   \n",
       "18           1019  2024-02-27      Tablet  Electronics    510         1   \n",
       "19           1020  2024-02-29  Headphones  Accessories    110         3   \n",
       "\n",
       "    TotalPrice Customer Region  \n",
       "0       1200.0    Alice  North  \n",
       "1       1600.0      Bob  South  \n",
       "2        500.0  Charlie   West  \n",
       "3        300.0     Dave   East  \n",
       "4        600.0      Eve  North  \n",
       "5        250.0      Leo  South  \n",
       "6        320.0    Grace   West  \n",
       "7        300.0     Hank   East  \n",
       "8       1100.0      Ivy  North  \n",
       "9       1500.0     John  South  \n",
       "10       600.0     Kate   West  \n",
       "11       360.0      Leo   East  \n",
       "12       560.0      Mia  North  \n",
       "13       275.0     Nina  South  \n",
       "14       340.0      Ivy   West  \n",
       "15       280.0     Paul   East  \n",
       "16      1250.0    Quinn  North  \n",
       "17      1640.0      Bob  South  \n",
       "18       510.0    Steve   West  \n",
       "19       330.0      Tom   East  "
      ]
     },
     "execution_count": 16,
     "metadata": {},
     "output_type": "execute_result"
    }
   ],
   "source": [
    "# Eksik verileri random doldurma\n",
    "df[\"Customer\"] = df[\"Customer\"].apply(lambda x: random.choice(df['Customer'].unique()) if pd.isna(x) else x)\n",
    "df"
   ]
  },
  {
   "cell_type": "code",
   "execution_count": 17,
   "id": "c4047d45",
   "metadata": {},
   "outputs": [
    {
     "data": {
      "text/plain": [
       "Ivy        2\n",
       "Leo        2\n",
       "Bob        2\n",
       "Kate       1\n",
       "Steve      1\n",
       "Quinn      1\n",
       "Paul       1\n",
       "Nina       1\n",
       "Mia        1\n",
       "Alice      1\n",
       "John       1\n",
       "Hank       1\n",
       "Grace      1\n",
       "Eve        1\n",
       "Dave       1\n",
       "Charlie    1\n",
       "Tom        1\n",
       "Name: Customer, dtype: int64"
      ]
     },
     "execution_count": 17,
     "metadata": {},
     "output_type": "execute_result"
    }
   ],
   "source": [
    "df['Customer'].value_counts()"
   ]
  },
  {
   "cell_type": "code",
   "execution_count": 18,
   "id": "37e0ddad",
   "metadata": {},
   "outputs": [],
   "source": [
    "# En çok tekrar eden değerle doldurma / NaN değerleri Alice ile doldurur\n",
    "# df['Customer'] = df['Customer'].fillna(df['Customer'].mode()[0])"
   ]
  },
  {
   "cell_type": "markdown",
   "id": "e7f71a6e",
   "metadata": {},
   "source": [
    "#### • Date sütununu tarih formatına (datetime) çevirin. "
   ]
  },
  {
   "cell_type": "code",
   "execution_count": 19,
   "id": "3eb9f28d",
   "metadata": {},
   "outputs": [],
   "source": [
    "df[\"Date\"] = pd.to_datetime(df[\"Date\"])"
   ]
  },
  {
   "cell_type": "code",
   "execution_count": 20,
   "id": "087978f1",
   "metadata": {},
   "outputs": [
    {
     "data": {
      "text/plain": [
       "TransactionID             int64\n",
       "Date             datetime64[ns]\n",
       "Product                  object\n",
       "Category                 object\n",
       "Price                     int64\n",
       "Quantity                  int64\n",
       "TotalPrice              float64\n",
       "Customer                 object\n",
       "Region                   object\n",
       "dtype: object"
      ]
     },
     "execution_count": 20,
     "metadata": {},
     "output_type": "execute_result"
    }
   ],
   "source": [
    "df.dtypes"
   ]
  },
  {
   "cell_type": "markdown",
   "id": "91de66dd",
   "metadata": {},
   "source": [
    "## Veri Filtreleme ve Gruplama"
   ]
  },
  {
   "cell_type": "markdown",
   "id": "fea34975",
   "metadata": {},
   "source": [
    "####   • Kategori bazında toplam satışları (TotalPrice toplamı) hesaplayın."
   ]
  },
  {
   "cell_type": "code",
   "execution_count": 26,
   "id": "c99ea115",
   "metadata": {},
   "outputs": [
    {
     "data": {
      "text/plain": [
       "Category\n",
       "Accessories     2755.0\n",
       "Electronics    11060.0\n",
       "Name: TotalPrice, dtype: float64"
      ]
     },
     "execution_count": 26,
     "metadata": {},
     "output_type": "execute_result"
    }
   ],
   "source": [
    "df.groupby('Category')['TotalPrice'].sum()"
   ]
  },
  {
   "cell_type": "markdown",
   "id": "c008d0cf",
   "metadata": {},
   "source": [
    "#### • Bölgelere göre (Region) toplam satışları hesaplayın.  "
   ]
  },
  {
   "cell_type": "code",
   "execution_count": 27,
   "id": "530c9829",
   "metadata": {},
   "outputs": [
    {
     "data": {
      "text/plain": [
       "Region\n",
       "East     1570.0\n",
       "North    4710.0\n",
       "South    5265.0\n",
       "West     2270.0\n",
       "Name: TotalPrice, dtype: float64"
      ]
     },
     "execution_count": 27,
     "metadata": {},
     "output_type": "execute_result"
    }
   ],
   "source": [
    "df.groupby('Region')['TotalPrice'].sum()"
   ]
  },
  {
   "cell_type": "markdown",
   "id": "bc93f7b9",
   "metadata": {},
   "source": [
    "####  • En fazla satış yapan müşteriyi bulun. "
   ]
  },
  {
   "cell_type": "code",
   "execution_count": 28,
   "id": "27bd0ac3",
   "metadata": {},
   "outputs": [
    {
     "data": {
      "text/plain": [
       "'Bob'"
      ]
     },
     "execution_count": 28,
     "metadata": {},
     "output_type": "execute_result"
    }
   ],
   "source": [
    "df.groupby('Customer')['TotalPrice'].sum().idxmax()"
   ]
  },
  {
   "cell_type": "markdown",
   "id": "ef9ca163",
   "metadata": {},
   "source": [
    "#### • Fiyatı 500’den fazla olan ürünleri listeleyin. "
   ]
  },
  {
   "cell_type": "code",
   "execution_count": 29,
   "id": "e0fafc90",
   "metadata": {},
   "outputs": [
    {
     "data": {
      "text/html": [
       "<div>\n",
       "<style scoped>\n",
       "    .dataframe tbody tr th:only-of-type {\n",
       "        vertical-align: middle;\n",
       "    }\n",
       "\n",
       "    .dataframe tbody tr th {\n",
       "        vertical-align: top;\n",
       "    }\n",
       "\n",
       "    .dataframe thead th {\n",
       "        text-align: right;\n",
       "    }\n",
       "</style>\n",
       "<table border=\"1\" class=\"dataframe\">\n",
       "  <thead>\n",
       "    <tr style=\"text-align: right;\">\n",
       "      <th></th>\n",
       "      <th>TransactionID</th>\n",
       "      <th>Date</th>\n",
       "      <th>Product</th>\n",
       "      <th>Category</th>\n",
       "      <th>Price</th>\n",
       "      <th>Quantity</th>\n",
       "      <th>TotalPrice</th>\n",
       "      <th>Customer</th>\n",
       "      <th>Region</th>\n",
       "    </tr>\n",
       "  </thead>\n",
       "  <tbody>\n",
       "    <tr>\n",
       "      <th>0</th>\n",
       "      <td>1001</td>\n",
       "      <td>2024-02-10</td>\n",
       "      <td>Laptop</td>\n",
       "      <td>Electronics</td>\n",
       "      <td>1200</td>\n",
       "      <td>1</td>\n",
       "      <td>1200.0</td>\n",
       "      <td>Alice</td>\n",
       "      <td>North</td>\n",
       "    </tr>\n",
       "    <tr>\n",
       "      <th>1</th>\n",
       "      <td>1002</td>\n",
       "      <td>2024-02-11</td>\n",
       "      <td>Smartphone</td>\n",
       "      <td>Electronics</td>\n",
       "      <td>800</td>\n",
       "      <td>2</td>\n",
       "      <td>1600.0</td>\n",
       "      <td>Bob</td>\n",
       "      <td>South</td>\n",
       "    </tr>\n",
       "    <tr>\n",
       "      <th>8</th>\n",
       "      <td>1009</td>\n",
       "      <td>2024-02-18</td>\n",
       "      <td>Laptop</td>\n",
       "      <td>Electronics</td>\n",
       "      <td>1100</td>\n",
       "      <td>1</td>\n",
       "      <td>1100.0</td>\n",
       "      <td>Ivy</td>\n",
       "      <td>North</td>\n",
       "    </tr>\n",
       "    <tr>\n",
       "      <th>9</th>\n",
       "      <td>1010</td>\n",
       "      <td>2024-02-19</td>\n",
       "      <td>Smartphone</td>\n",
       "      <td>Electronics</td>\n",
       "      <td>750</td>\n",
       "      <td>2</td>\n",
       "      <td>1500.0</td>\n",
       "      <td>John</td>\n",
       "      <td>South</td>\n",
       "    </tr>\n",
       "    <tr>\n",
       "      <th>10</th>\n",
       "      <td>1011</td>\n",
       "      <td>2024-02-19</td>\n",
       "      <td>Tablet</td>\n",
       "      <td>Electronics</td>\n",
       "      <td>600</td>\n",
       "      <td>1</td>\n",
       "      <td>600.0</td>\n",
       "      <td>Kate</td>\n",
       "      <td>West</td>\n",
       "    </tr>\n",
       "    <tr>\n",
       "      <th>16</th>\n",
       "      <td>1017</td>\n",
       "      <td>2024-02-26</td>\n",
       "      <td>Laptop</td>\n",
       "      <td>Electronics</td>\n",
       "      <td>1250</td>\n",
       "      <td>1</td>\n",
       "      <td>1250.0</td>\n",
       "      <td>Quinn</td>\n",
       "      <td>North</td>\n",
       "    </tr>\n",
       "    <tr>\n",
       "      <th>17</th>\n",
       "      <td>1018</td>\n",
       "      <td>2024-02-27</td>\n",
       "      <td>Smartphone</td>\n",
       "      <td>Electronics</td>\n",
       "      <td>820</td>\n",
       "      <td>2</td>\n",
       "      <td>1640.0</td>\n",
       "      <td>Bob</td>\n",
       "      <td>South</td>\n",
       "    </tr>\n",
       "    <tr>\n",
       "      <th>18</th>\n",
       "      <td>1019</td>\n",
       "      <td>2024-02-27</td>\n",
       "      <td>Tablet</td>\n",
       "      <td>Electronics</td>\n",
       "      <td>510</td>\n",
       "      <td>1</td>\n",
       "      <td>510.0</td>\n",
       "      <td>Steve</td>\n",
       "      <td>West</td>\n",
       "    </tr>\n",
       "  </tbody>\n",
       "</table>\n",
       "</div>"
      ],
      "text/plain": [
       "    TransactionID       Date     Product     Category  Price  Quantity  \\\n",
       "0            1001 2024-02-10      Laptop  Electronics   1200         1   \n",
       "1            1002 2024-02-11  Smartphone  Electronics    800         2   \n",
       "8            1009 2024-02-18      Laptop  Electronics   1100         1   \n",
       "9            1010 2024-02-19  Smartphone  Electronics    750         2   \n",
       "10           1011 2024-02-19      Tablet  Electronics    600         1   \n",
       "16           1017 2024-02-26      Laptop  Electronics   1250         1   \n",
       "17           1018 2024-02-27  Smartphone  Electronics    820         2   \n",
       "18           1019 2024-02-27      Tablet  Electronics    510         1   \n",
       "\n",
       "    TotalPrice Customer Region  \n",
       "0       1200.0    Alice  North  \n",
       "1       1600.0      Bob  South  \n",
       "8       1100.0      Ivy  North  \n",
       "9       1500.0     John  South  \n",
       "10       600.0     Kate   West  \n",
       "16      1250.0    Quinn  North  \n",
       "17      1640.0      Bob  South  \n",
       "18       510.0    Steve   West  "
      ]
     },
     "execution_count": 29,
     "metadata": {},
     "output_type": "execute_result"
    }
   ],
   "source": [
    "df[df['Price'] > 500]"
   ]
  },
  {
   "cell_type": "markdown",
   "id": "14a54eb8",
   "metadata": {},
   "source": [
    "#### • Elektronik ürünlerin toplam satışını hesaplayın."
   ]
  },
  {
   "cell_type": "code",
   "execution_count": 30,
   "id": "2eeec794",
   "metadata": {},
   "outputs": [
    {
     "data": {
      "text/plain": [
       "11060.0"
      ]
     },
     "execution_count": 30,
     "metadata": {},
     "output_type": "execute_result"
    }
   ],
   "source": [
    "df[df['Category'] == 'Electronics']['TotalPrice'].sum()"
   ]
  },
  {
   "cell_type": "markdown",
   "id": "32fd4696",
   "metadata": {},
   "source": [
    "## Format Değiştirme"
   ]
  },
  {
   "cell_type": "markdown",
   "id": "67ad7145",
   "metadata": {},
   "source": [
    "####  • Veriyi JSON formatına çevirip kaydedin (sales_data.json). "
   ]
  },
  {
   "cell_type": "code",
   "execution_count": 31,
   "id": "3f5b84b8",
   "metadata": {},
   "outputs": [],
   "source": [
    "df.to_json('sales_data.json')"
   ]
  },
  {
   "cell_type": "markdown",
   "id": "9de1f545",
   "metadata": {},
   "source": [
    "#### • Veriyi Excel (.xlsx) formatına çevirip kaydedin (sales_data.xlsx)"
   ]
  },
  {
   "cell_type": "code",
   "execution_count": 34,
   "id": "20cd0b61",
   "metadata": {},
   "outputs": [
    {
     "name": "stdout",
     "output_type": "stream",
     "text": [
      "Collecting openpyxl\n",
      "  Downloading openpyxl-3.1.3-py2.py3-none-any.whl (251 kB)\n",
      "     -------------------------------------- 251.3/251.3 kB 1.2 MB/s eta 0:00:00\n",
      "Collecting et-xmlfile\n",
      "  Downloading et_xmlfile-1.1.0-py3-none-any.whl (4.7 kB)\n",
      "Installing collected packages: et-xmlfile, openpyxl\n",
      "Successfully installed et-xmlfile-1.1.0 openpyxl-3.1.3\n"
     ]
    }
   ],
   "source": [
    "! pip install openpyxl"
   ]
  },
  {
   "cell_type": "code",
   "execution_count": 35,
   "id": "b894ab55",
   "metadata": {},
   "outputs": [],
   "source": [
    "df.to_excel('sales_data.xlsx')"
   ]
  }
 ],
 "metadata": {
  "kernelspec": {
   "display_name": "Python 3 (ipykernel)",
   "language": "python",
   "name": "python3"
  },
  "language_info": {
   "codemirror_mode": {
    "name": "ipython",
    "version": 3
   },
   "file_extension": ".py",
   "mimetype": "text/x-python",
   "name": "python",
   "nbconvert_exporter": "python",
   "pygments_lexer": "ipython3",
   "version": "3.7.1"
  }
 },
 "nbformat": 4,
 "nbformat_minor": 5
}
